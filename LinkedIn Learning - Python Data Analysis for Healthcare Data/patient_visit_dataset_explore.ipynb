{
 "cells": [
  {
   "cell_type": "code",
   "execution_count": 1,
   "metadata": {},
   "outputs": [],
   "source": [
    "import pandas as pd"
   ]
  },
  {
   "cell_type": "markdown",
   "metadata": {},
   "source": [
    "## Import & explore data"
   ]
  },
  {
   "cell_type": "code",
   "execution_count": 12,
   "metadata": {},
   "outputs": [
    {
     "data": {
      "text/html": [
       "<div>\n",
       "<style scoped>\n",
       "    .dataframe tbody tr th:only-of-type {\n",
       "        vertical-align: middle;\n",
       "    }\n",
       "\n",
       "    .dataframe tbody tr th {\n",
       "        vertical-align: top;\n",
       "    }\n",
       "\n",
       "    .dataframe thead th {\n",
       "        text-align: right;\n",
       "    }\n",
       "</style>\n",
       "<table border=\"1\" class=\"dataframe\">\n",
       "  <thead>\n",
       "    <tr style=\"text-align: right;\">\n",
       "      <th></th>\n",
       "      <th>Visit_Date</th>\n",
       "      <th>Patient_ID</th>\n",
       "      <th>Age</th>\n",
       "      <th>Gender</th>\n",
       "      <th>Diagnosis</th>\n",
       "      <th>Has_Insurance</th>\n",
       "      <th>Postcode</th>\n",
       "      <th>Total_Cost</th>\n",
       "      <th>Registration</th>\n",
       "      <th>Nursing</th>\n",
       "      <th>Laboratory</th>\n",
       "      <th>Consultation</th>\n",
       "      <th>Pharmacy</th>\n",
       "    </tr>\n",
       "  </thead>\n",
       "  <tbody>\n",
       "    <tr>\n",
       "      <th>0</th>\n",
       "      <td>2020-05-06</td>\n",
       "      <td>688923</td>\n",
       "      <td>68</td>\n",
       "      <td>Female</td>\n",
       "      <td>Diabetes</td>\n",
       "      <td>True</td>\n",
       "      <td>20006</td>\n",
       "      <td>2274.0</td>\n",
       "      <td>33</td>\n",
       "      <td>105</td>\n",
       "      <td>101</td>\n",
       "      <td>28</td>\n",
       "      <td>112</td>\n",
       "    </tr>\n",
       "    <tr>\n",
       "      <th>1</th>\n",
       "      <td>2018-08-04</td>\n",
       "      <td>886361</td>\n",
       "      <td>62</td>\n",
       "      <td>Female</td>\n",
       "      <td>Urinary Tract Infection</td>\n",
       "      <td>False</td>\n",
       "      <td>20005</td>\n",
       "      <td>3430.0</td>\n",
       "      <td>46</td>\n",
       "      <td>75</td>\n",
       "      <td>84</td>\n",
       "      <td>102</td>\n",
       "      <td>36</td>\n",
       "    </tr>\n",
       "    <tr>\n",
       "      <th>2</th>\n",
       "      <td>2021-04-10</td>\n",
       "      <td>464823</td>\n",
       "      <td>70</td>\n",
       "      <td>Female</td>\n",
       "      <td>Upper Respiratory Tract Infection</td>\n",
       "      <td>True</td>\n",
       "      <td>10003</td>\n",
       "      <td>1836.0</td>\n",
       "      <td>107</td>\n",
       "      <td>81</td>\n",
       "      <td>5</td>\n",
       "      <td>77</td>\n",
       "      <td>36</td>\n",
       "    </tr>\n",
       "    <tr>\n",
       "      <th>3</th>\n",
       "      <td>2021-10-01</td>\n",
       "      <td>655214</td>\n",
       "      <td>8</td>\n",
       "      <td>Female</td>\n",
       "      <td>Upper Respiratory Tract Infection</td>\n",
       "      <td>False</td>\n",
       "      <td>10006</td>\n",
       "      <td>3250.0</td>\n",
       "      <td>66</td>\n",
       "      <td>31</td>\n",
       "      <td>101</td>\n",
       "      <td>35</td>\n",
       "      <td>92</td>\n",
       "    </tr>\n",
       "    <tr>\n",
       "      <th>4</th>\n",
       "      <td>2018-04-30</td>\n",
       "      <td>454666</td>\n",
       "      <td>24</td>\n",
       "      <td>Male</td>\n",
       "      <td>Malaria</td>\n",
       "      <td>True</td>\n",
       "      <td>10006</td>\n",
       "      <td>2262.0</td>\n",
       "      <td>68</td>\n",
       "      <td>55</td>\n",
       "      <td>60</td>\n",
       "      <td>90</td>\n",
       "      <td>104</td>\n",
       "    </tr>\n",
       "  </tbody>\n",
       "</table>\n",
       "</div>"
      ],
      "text/plain": [
       "   Visit_Date  Patient_ID  Age  Gender                          Diagnosis  \\\n",
       "0  2020-05-06      688923   68  Female                           Diabetes   \n",
       "1  2018-08-04      886361   62  Female            Urinary Tract Infection   \n",
       "2  2021-04-10      464823   70  Female  Upper Respiratory Tract Infection   \n",
       "3  2021-10-01      655214    8  Female  Upper Respiratory Tract Infection   \n",
       "4  2018-04-30      454666   24    Male                            Malaria   \n",
       "\n",
       "   Has_Insurance  Postcode  Total_Cost  Registration  Nursing  Laboratory  \\\n",
       "0           True     20006      2274.0            33      105         101   \n",
       "1          False     20005      3430.0            46       75          84   \n",
       "2           True     10003      1836.0           107       81           5   \n",
       "3          False     10006      3250.0            66       31         101   \n",
       "4           True     10006      2262.0            68       55          60   \n",
       "\n",
       "   Consultation  Pharmacy  \n",
       "0            28       112  \n",
       "1           102        36  \n",
       "2            77        36  \n",
       "3            35        92  \n",
       "4            90       104  "
      ]
     },
     "execution_count": 12,
     "metadata": {},
     "output_type": "execute_result"
    }
   ],
   "source": [
    "df = pd.read_csv('datasets/Demo Hospital Outpatient Data_NHC.csv')\n",
    "df.head()"
   ]
  },
  {
   "cell_type": "code",
   "execution_count": 13,
   "metadata": {},
   "outputs": [
    {
     "name": "stdout",
     "output_type": "stream",
     "text": [
      "<class 'pandas.core.frame.DataFrame'>\n",
      "RangeIndex: 1000000 entries, 0 to 999999\n",
      "Data columns (total 13 columns):\n",
      " #   Column         Non-Null Count    Dtype  \n",
      "---  ------         --------------    -----  \n",
      " 0   Visit_Date     1000000 non-null  object \n",
      " 1   Patient_ID     1000000 non-null  int64  \n",
      " 2   Age            1000000 non-null  int64  \n",
      " 3   Gender         1000000 non-null  object \n",
      " 4   Diagnosis      1000000 non-null  object \n",
      " 5   Has_Insurance  1000000 non-null  bool   \n",
      " 6   Postcode       1000000 non-null  int64  \n",
      " 7   Total_Cost     1000000 non-null  float64\n",
      " 8   Registration   1000000 non-null  int64  \n",
      " 9   Nursing        1000000 non-null  int64  \n",
      " 10  Laboratory     1000000 non-null  int64  \n",
      " 11  Consultation   1000000 non-null  int64  \n",
      " 12  Pharmacy       1000000 non-null  int64  \n",
      "dtypes: bool(1), float64(1), int64(8), object(3)\n",
      "memory usage: 92.5+ MB\n"
     ]
    }
   ],
   "source": [
    "df.info()"
   ]
  },
  {
   "cell_type": "code",
   "execution_count": 15,
   "metadata": {},
   "outputs": [
    {
     "data": {
      "text/plain": [
       "Visit_Date       0\n",
       "Patient_ID       0\n",
       "Age              0\n",
       "Gender           0\n",
       "Diagnosis        0\n",
       "Has_Insurance    0\n",
       "Postcode         0\n",
       "Total_Cost       0\n",
       "Registration     0\n",
       "Nursing          0\n",
       "Laboratory       0\n",
       "Consultation     0\n",
       "Pharmacy         0\n",
       "dtype: int64"
      ]
     },
     "execution_count": 15,
     "metadata": {},
     "output_type": "execute_result"
    }
   ],
   "source": [
    "# check for empty rows\n",
    "df.isna().sum()"
   ]
  },
  {
   "cell_type": "markdown",
   "metadata": {},
   "source": [
    "## Clean Data\n",
    "\n",
    "There are several numerical data types under the **Registration**, **Nursing**, etc columns that don't quite make sense. What do these numbers represent? The values in these columns are the amount of time in minutes that each patient spent at each specified department during their visit. I will change the column names to something more descriptive that better represent the values."
   ]
  },
  {
   "cell_type": "code",
   "execution_count": 19,
   "metadata": {},
   "outputs": [
    {
     "data": {
      "text/plain": [
       "Index(['Visit_Date', 'Patient_ID', 'Age', 'Gender', 'Diagnosis',\n",
       "       'Has_Insurance', 'Postcode', 'Total_Cost', 'Registration', 'Nursing',\n",
       "       'Laboratory', 'Consultation', 'Pharmacy'],\n",
       "      dtype='object')"
      ]
     },
     "execution_count": 19,
     "metadata": {},
     "output_type": "execute_result"
    }
   ],
   "source": [
    "df.columns"
   ]
  },
  {
   "cell_type": "code",
   "execution_count": 21,
   "metadata": {},
   "outputs": [
    {
     "data": {
      "text/plain": [
       "Index(['Visit_Date', 'Patient_ID', 'Age', 'Gender', 'Diagnosis',\n",
       "       'Has_Insurance', 'Postcode', 'Total_Cost', 'Minutes In Registration',\n",
       "       'Minutes In Nursing', 'Minutes in Laboratory',\n",
       "       'Minutes in Consultation', 'Minutes in Pharmacy'],\n",
       "      dtype='object')"
      ]
     },
     "execution_count": 21,
     "metadata": {},
     "output_type": "execute_result"
    }
   ],
   "source": [
    "df.rename(columns={'Registration':'Minutes In Registration', 'Nursing':'Minutes In Nursing',\n",
    "       'Laboratory': 'Minutes in Laboratory', 'Consultation':'Minutes in Consultation', 'Pharmacy':'Minutes in Pharmacy'}, inplace=True)\n",
    "df.columns"
   ]
  }
 ],
 "metadata": {
  "kernelspec": {
   "display_name": "Python 3",
   "language": "python",
   "name": "python3"
  },
  "language_info": {
   "codemirror_mode": {
    "name": "ipython",
    "version": 3
   },
   "file_extension": ".py",
   "mimetype": "text/x-python",
   "name": "python",
   "nbconvert_exporter": "python",
   "pygments_lexer": "ipython3",
   "version": "3.12.2"
  }
 },
 "nbformat": 4,
 "nbformat_minor": 2
}
